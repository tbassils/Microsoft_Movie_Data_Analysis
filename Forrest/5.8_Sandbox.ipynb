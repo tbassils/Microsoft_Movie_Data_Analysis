{
 "cells": [
  {
   "cell_type": "markdown",
   "metadata": {},
   "source": [
    "# Final Project Submission\n",
    "\n",
    "Please fill out:\n",
    "* Student name: Thiago Bassi\n",
    "* Student pace: full time\n",
    "* Scheduled project review date/time: \n",
    "* Instructor name: \n",
    "* Blog post URL:\n"
   ]
  },
  {
   "cell_type": "code",
   "execution_count": 2,
   "metadata": {},
   "outputs": [],
   "source": [
    "# Your code here - remember to use markdown cells for comments as well!"
   ]
  },
  {
   "cell_type": "code",
   "execution_count": 3,
   "metadata": {},
   "outputs": [],
   "source": [
    "#importing the necessary libraries\n",
    "import pandas as pd\n",
    "import numpy as np\n",
    "import matplotlib\n",
    "import sqlite3\n",
    "import matplotlib.pyplot as plt\n",
    "import json\n",
    "import pickle\n",
    "import seaborn as sns"
   ]
  },
  {
   "cell_type": "code",
   "execution_count": 4,
   "metadata": {},
   "outputs": [],
   "source": [
    "con = sqlite3.connect('Data/im.db')\n",
    "cursor_obj = con.cursor()"
   ]
  },
  {
   "cell_type": "code",
   "execution_count": 5,
   "metadata": {},
   "outputs": [
    {
     "name": "stdout",
     "output_type": "stream",
     "text": [
      "directors      movie_akas     movie_ratings  principals   \n",
      "known_for      movie_basics   persons        writers      \n"
     ]
    }
   ],
   "source": [
    "%%bash\n",
    "\n",
    "\n",
    "sqlite3 data/im.db\n",
    ".tables"
   ]
  },
  {
   "cell_type": "code",
   "execution_count": 6,
   "metadata": {},
   "outputs": [
    {
     "name": "stdout",
     "output_type": "stream",
     "text": [
      "CREATE TABLE IF NOT EXISTS \"movie_basics\" (\n",
      "\"movie_id\" TEXT,\n",
      "  \"primary_title\" TEXT,\n",
      "  \"original_title\" TEXT,\n",
      "  \"start_year\" INTEGER,\n",
      "  \"runtime_minutes\" REAL,\n",
      "  \"genres\" TEXT\n",
      ");\n",
      "CREATE TABLE IF NOT EXISTS \"directors\" (\n",
      "\"movie_id\" TEXT,\n",
      "  \"person_id\" TEXT\n",
      ");\n",
      "CREATE TABLE IF NOT EXISTS \"known_for\" (\n",
      "\"person_id\" TEXT,\n",
      "  \"movie_id\" TEXT\n",
      ");\n",
      "CREATE TABLE IF NOT EXISTS \"movie_akas\" (\n",
      "\"movie_id\" TEXT,\n",
      "  \"ordering\" INTEGER,\n",
      "  \"title\" TEXT,\n",
      "  \"region\" TEXT,\n",
      "  \"language\" TEXT,\n",
      "  \"types\" TEXT,\n",
      "  \"attributes\" TEXT,\n",
      "  \"is_original_title\" REAL\n",
      ");\n",
      "CREATE TABLE IF NOT EXISTS \"movie_ratings\" (\n",
      "\"movie_id\" TEXT,\n",
      "  \"averagerating\" REAL,\n",
      "  \"numvotes\" INTEGER\n",
      ");\n",
      "CREATE TABLE IF NOT EXISTS \"persons\" (\n",
      "\"person_id\" TEXT,\n",
      "  \"primary_name\" TEXT,\n",
      "  \"birth_year\" REAL,\n",
      "  \"death_year\" REAL,\n",
      "  \"primary_profession\" TEXT\n",
      ");\n",
      "CREATE TABLE IF NOT EXISTS \"principals\" (\n",
      "\"movie_id\" TEXT,\n",
      "  \"ordering\" INTEGER,\n",
      "  \"person_id\" TEXT,\n",
      "  \"category\" TEXT,\n",
      "  \"job\" TEXT,\n",
      "  \"characters\" TEXT\n",
      ");\n",
      "CREATE TABLE IF NOT EXISTS \"writers\" (\n",
      "\"movie_id\" TEXT,\n",
      "  \"person_id\" TEXT\n",
      ");\n"
     ]
    }
   ],
   "source": [
    "%%bash\n",
    "\n",
    "\n",
    "sqlite3 data/im.db\n",
    ".schema"
   ]
  },
  {
   "cell_type": "code",
   "execution_count": 7,
   "metadata": {},
   "outputs": [],
   "source": [
    "#upload all the tables\n",
    "qr_directors = 'SELECT * FROM directors'\n",
    "qr_movie_akas = 'SELECT * FROM movie_akas'\n",
    "qr_movie_ratings = 'SELECT * FROM movie_ratings'\n",
    "qr_principals = 'SELECT * FROM principals'\n",
    "qr_known_for = 'SELECT * FROM known_for'\n",
    "qr_movie_basics = 'SELECT * FROM movie_basics'\n",
    "qr_persons = 'SELECT * FROM persons'\n",
    "qr_writers = 'SELECT * FROM writers'\n"
   ]
  },
  {
   "cell_type": "code",
   "execution_count": 8,
   "metadata": {},
   "outputs": [],
   "source": [
    "tb_directors = pd.read_sql(qr_directors,con)\n",
    "tb_movie_akas = pd.read_sql(qr_movie_akas,con)\n",
    "tb_movie_ratings = pd.read_sql(qr_movie_ratings,con)\n",
    "tb_principals = pd.read_sql(qr_principals,con)\n",
    "tb_known_for = pd.read_sql(qr_known_for,con)\n",
    "tb_movie_basics = pd.read_sql(qr_movie_basics,con)\n",
    "tb_persons = pd.read_sql(qr_persons,con)\n",
    "tb_writers = pd.read_sql(qr_writers,con)"
   ]
  },
  {
   "cell_type": "markdown",
   "metadata": {},
   "source": [
    "tb_movie_basics.to_csv('movie_basics.csv')\n"
   ]
  },
  {
   "cell_type": "markdown",
   "metadata": {},
   "source": [
    "Don't execute this code, i already made the tables but below is the code I used. Turned this into a markdown so I don't accidentally do this\n",
    "\n",
    "\n",
    "tb_directors.to_csv('tb_directors.csv')\n",
    "tb_movie_akas.to_csv('tb_movie_akas.csv')\n",
    "tb_movie_ratings.to_csv('tb_movie_ratings.csv')\n",
    "tb_principals.to_csv('tb_principals.csv')\n",
    "tb_known_for.to_csv('tb_known_for.csv')\n",
    "tb_movie_basics.to_csv('tb_movie_basics.csv')\n",
    "tb_persons.to_csv('tb_persons.csv')\n",
    "tb_writers.to_csv('tb_writers.csv')"
   ]
  },
  {
   "cell_type": "code",
   "execution_count": 9,
   "metadata": {},
   "outputs": [
    {
     "data": {
      "text/plain": [
       "Index(['movie_id', 'person_id'], dtype='object')"
      ]
     },
     "execution_count": 9,
     "metadata": {},
     "output_type": "execute_result"
    }
   ],
   "source": [
    "tb_directors.columns"
   ]
  },
  {
   "cell_type": "code",
   "execution_count": 10,
   "metadata": {},
   "outputs": [
    {
     "data": {
      "text/plain": [
       "Index(['person_id', 'primary_name', 'birth_year', 'death_year',\n",
       "       'primary_profession'],\n",
       "      dtype='object')"
      ]
     },
     "execution_count": 10,
     "metadata": {},
     "output_type": "execute_result"
    }
   ],
   "source": [
    "tb_persons.columns"
   ]
  },
  {
   "cell_type": "code",
   "execution_count": 11,
   "metadata": {},
   "outputs": [
    {
     "data": {
      "text/plain": [
       "Index(['movie_id', 'primary_title', 'original_title', 'start_year',\n",
       "       'runtime_minutes', 'genres'],\n",
       "      dtype='object')"
      ]
     },
     "execution_count": 11,
     "metadata": {},
     "output_type": "execute_result"
    }
   ],
   "source": [
    "tb_movie_basics.columns"
   ]
  },
  {
   "cell_type": "code",
   "execution_count": 12,
   "metadata": {},
   "outputs": [],
   "source": [
    "\n",
    "#F.1\n",
    "tb_directors['director_name'] = tb_directors['person_id'].map(tb_persons.set_index('person_id')['primary_name'])"
   ]
  },
  {
   "cell_type": "code",
   "execution_count": 13,
   "metadata": {},
   "outputs": [],
   "source": [
    "#F.2\n",
    "tb_directors['director_movie_PR'] = tb_directors['movie_id'].map(tb_movie_basics.set_index('movie_id')['primary_title'])"
   ]
  },
  {
   "cell_type": "code",
   "execution_count": 14,
   "metadata": {},
   "outputs": [
    {
     "data": {
      "text/html": [
       "<div>\n",
       "<style scoped>\n",
       "    .dataframe tbody tr th:only-of-type {\n",
       "        vertical-align: middle;\n",
       "    }\n",
       "\n",
       "    .dataframe tbody tr th {\n",
       "        vertical-align: top;\n",
       "    }\n",
       "\n",
       "    .dataframe thead th {\n",
       "        text-align: right;\n",
       "    }\n",
       "</style>\n",
       "<table border=\"1\" class=\"dataframe\">\n",
       "  <thead>\n",
       "    <tr style=\"text-align: right;\">\n",
       "      <th></th>\n",
       "      <th>movie_id</th>\n",
       "      <th>person_id</th>\n",
       "      <th>director_name</th>\n",
       "      <th>director_movie_PR</th>\n",
       "    </tr>\n",
       "  </thead>\n",
       "  <tbody>\n",
       "    <tr>\n",
       "      <th>0</th>\n",
       "      <td>tt0285252</td>\n",
       "      <td>nm0899854</td>\n",
       "      <td>Tony Vitale</td>\n",
       "      <td>Life's a Beach</td>\n",
       "    </tr>\n",
       "    <tr>\n",
       "      <th>1</th>\n",
       "      <td>tt0462036</td>\n",
       "      <td>nm1940585</td>\n",
       "      <td>Bill Haley</td>\n",
       "      <td>Steve Phoenix: The Untold Story</td>\n",
       "    </tr>\n",
       "    <tr>\n",
       "      <th>2</th>\n",
       "      <td>tt0835418</td>\n",
       "      <td>nm0151540</td>\n",
       "      <td>Jay Chandrasekhar</td>\n",
       "      <td>The Babymakers</td>\n",
       "    </tr>\n",
       "    <tr>\n",
       "      <th>3</th>\n",
       "      <td>tt0835418</td>\n",
       "      <td>nm0151540</td>\n",
       "      <td>Jay Chandrasekhar</td>\n",
       "      <td>The Babymakers</td>\n",
       "    </tr>\n",
       "    <tr>\n",
       "      <th>4</th>\n",
       "      <td>tt0878654</td>\n",
       "      <td>nm0089502</td>\n",
       "      <td>Albert Pyun</td>\n",
       "      <td>Bulletface</td>\n",
       "    </tr>\n",
       "    <tr>\n",
       "      <th>...</th>\n",
       "      <td>...</td>\n",
       "      <td>...</td>\n",
       "      <td>...</td>\n",
       "      <td>...</td>\n",
       "    </tr>\n",
       "    <tr>\n",
       "      <th>291169</th>\n",
       "      <td>tt8999974</td>\n",
       "      <td>nm10122357</td>\n",
       "      <td>Daysi Burbano</td>\n",
       "      <td>Madre Luna</td>\n",
       "    </tr>\n",
       "    <tr>\n",
       "      <th>291170</th>\n",
       "      <td>tt9001390</td>\n",
       "      <td>nm6711477</td>\n",
       "      <td>Bernard Lessa</td>\n",
       "      <td>The woman and the river</td>\n",
       "    </tr>\n",
       "    <tr>\n",
       "      <th>291171</th>\n",
       "      <td>tt9001494</td>\n",
       "      <td>nm10123242</td>\n",
       "      <td>Tate Nova</td>\n",
       "      <td>Stone Mountain Georgia 08.28.18</td>\n",
       "    </tr>\n",
       "    <tr>\n",
       "      <th>291172</th>\n",
       "      <td>tt9001494</td>\n",
       "      <td>nm10123248</td>\n",
       "      <td>Courtney Faye Powell</td>\n",
       "      <td>Stone Mountain Georgia 08.28.18</td>\n",
       "    </tr>\n",
       "    <tr>\n",
       "      <th>291173</th>\n",
       "      <td>tt9004986</td>\n",
       "      <td>nm4993825</td>\n",
       "      <td>Fredrik Horn Akselsen</td>\n",
       "      <td>Syndebukken: Prosessen mot Harry Lindstrøm</td>\n",
       "    </tr>\n",
       "  </tbody>\n",
       "</table>\n",
       "<p>291174 rows × 4 columns</p>\n",
       "</div>"
      ],
      "text/plain": [
       "         movie_id   person_id          director_name  \\\n",
       "0       tt0285252   nm0899854            Tony Vitale   \n",
       "1       tt0462036   nm1940585             Bill Haley   \n",
       "2       tt0835418   nm0151540      Jay Chandrasekhar   \n",
       "3       tt0835418   nm0151540      Jay Chandrasekhar   \n",
       "4       tt0878654   nm0089502            Albert Pyun   \n",
       "...           ...         ...                    ...   \n",
       "291169  tt8999974  nm10122357          Daysi Burbano   \n",
       "291170  tt9001390   nm6711477          Bernard Lessa   \n",
       "291171  tt9001494  nm10123242              Tate Nova   \n",
       "291172  tt9001494  nm10123248   Courtney Faye Powell   \n",
       "291173  tt9004986   nm4993825  Fredrik Horn Akselsen   \n",
       "\n",
       "                                 director_movie_PR  \n",
       "0                                   Life's a Beach  \n",
       "1                  Steve Phoenix: The Untold Story  \n",
       "2                                   The Babymakers  \n",
       "3                                   The Babymakers  \n",
       "4                                       Bulletface  \n",
       "...                                            ...  \n",
       "291169                                  Madre Luna  \n",
       "291170                     The woman and the river  \n",
       "291171             Stone Mountain Georgia 08.28.18  \n",
       "291172             Stone Mountain Georgia 08.28.18  \n",
       "291173  Syndebukken: Prosessen mot Harry Lindstrøm  \n",
       "\n",
       "[291174 rows x 4 columns]"
      ]
     },
     "execution_count": 14,
     "metadata": {},
     "output_type": "execute_result"
    }
   ],
   "source": [
    "tb_directors"
   ]
  },
  {
   "cell_type": "code",
   "execution_count": 35,
   "metadata": {},
   "outputs": [],
   "source": [
    "tb_directors_nadropped = tb_directors.dropna(subset = 'director_name')"
   ]
  },
  {
   "cell_type": "code",
   "execution_count": 40,
   "metadata": {},
   "outputs": [
    {
     "data": {
      "text/html": [
       "<div>\n",
       "<style scoped>\n",
       "    .dataframe tbody tr th:only-of-type {\n",
       "        vertical-align: middle;\n",
       "    }\n",
       "\n",
       "    .dataframe tbody tr th {\n",
       "        vertical-align: top;\n",
       "    }\n",
       "\n",
       "    .dataframe thead th {\n",
       "        text-align: right;\n",
       "    }\n",
       "</style>\n",
       "<table border=\"1\" class=\"dataframe\">\n",
       "  <thead>\n",
       "    <tr style=\"text-align: right;\">\n",
       "      <th></th>\n",
       "      <th>movie_id</th>\n",
       "      <th>person_id</th>\n",
       "      <th>director_name</th>\n",
       "      <th>director_movie_PR</th>\n",
       "    </tr>\n",
       "  </thead>\n",
       "  <tbody>\n",
       "    <tr>\n",
       "      <th>1</th>\n",
       "      <td>tt0462036</td>\n",
       "      <td>nm1940585</td>\n",
       "      <td>Bill Haley</td>\n",
       "      <td>Steve Phoenix: The Untold Story</td>\n",
       "    </tr>\n",
       "    <tr>\n",
       "      <th>48</th>\n",
       "      <td>tt10133856</td>\n",
       "      <td>nm10384892</td>\n",
       "      <td>Mal Williamson</td>\n",
       "      <td>Under the Weather</td>\n",
       "    </tr>\n",
       "    <tr>\n",
       "      <th>49</th>\n",
       "      <td>tt10133856</td>\n",
       "      <td>nm10384892</td>\n",
       "      <td>Mal Williamson</td>\n",
       "      <td>Under the Weather</td>\n",
       "    </tr>\n",
       "    <tr>\n",
       "      <th>50</th>\n",
       "      <td>tt10133856</td>\n",
       "      <td>nm10384892</td>\n",
       "      <td>Mal Williamson</td>\n",
       "      <td>Under the Weather</td>\n",
       "    </tr>\n",
       "    <tr>\n",
       "      <th>51</th>\n",
       "      <td>tt10133856</td>\n",
       "      <td>nm10384892</td>\n",
       "      <td>Mal Williamson</td>\n",
       "      <td>Under the Weather</td>\n",
       "    </tr>\n",
       "    <tr>\n",
       "      <th>...</th>\n",
       "      <td>...</td>\n",
       "      <td>...</td>\n",
       "      <td>...</td>\n",
       "      <td>...</td>\n",
       "    </tr>\n",
       "    <tr>\n",
       "      <th>291133</th>\n",
       "      <td>tt8924952</td>\n",
       "      <td>nm5223080</td>\n",
       "      <td>Freddy Novillo</td>\n",
       "      <td>A través del espejo</td>\n",
       "    </tr>\n",
       "    <tr>\n",
       "      <th>291134</th>\n",
       "      <td>tt8928598</td>\n",
       "      <td>nm7311864</td>\n",
       "      <td>Roberto Villar</td>\n",
       "      <td>Twist of Face</td>\n",
       "    </tr>\n",
       "    <tr>\n",
       "      <th>291135</th>\n",
       "      <td>tt8928598</td>\n",
       "      <td>nm7311864</td>\n",
       "      <td>Roberto Villar</td>\n",
       "      <td>Twist of Face</td>\n",
       "    </tr>\n",
       "    <tr>\n",
       "      <th>291141</th>\n",
       "      <td>tt8948466</td>\n",
       "      <td>nm10079230</td>\n",
       "      <td>Floréal Guillard</td>\n",
       "      <td>Pink Automatic</td>\n",
       "    </tr>\n",
       "    <tr>\n",
       "      <th>291142</th>\n",
       "      <td>tt8948466</td>\n",
       "      <td>nm10098149</td>\n",
       "      <td>Yanis Guillard</td>\n",
       "      <td>Pink Automatic</td>\n",
       "    </tr>\n",
       "  </tbody>\n",
       "</table>\n",
       "<p>8074 rows × 4 columns</p>\n",
       "</div>"
      ],
      "text/plain": [
       "          movie_id   person_id     director_name  \\\n",
       "1        tt0462036   nm1940585        Bill Haley   \n",
       "48      tt10133856  nm10384892    Mal Williamson   \n",
       "49      tt10133856  nm10384892    Mal Williamson   \n",
       "50      tt10133856  nm10384892    Mal Williamson   \n",
       "51      tt10133856  nm10384892    Mal Williamson   \n",
       "...            ...         ...               ...   \n",
       "291133   tt8924952   nm5223080    Freddy Novillo   \n",
       "291134   tt8928598   nm7311864    Roberto Villar   \n",
       "291135   tt8928598   nm7311864    Roberto Villar   \n",
       "291141   tt8948466  nm10079230  Floréal Guillard   \n",
       "291142   tt8948466  nm10098149    Yanis Guillard   \n",
       "\n",
       "                      director_movie_PR  \n",
       "1       Steve Phoenix: The Untold Story  \n",
       "48                    Under the Weather  \n",
       "49                    Under the Weather  \n",
       "50                    Under the Weather  \n",
       "51                    Under the Weather  \n",
       "...                                 ...  \n",
       "291133              A través del espejo  \n",
       "291134                    Twist of Face  \n",
       "291135                    Twist of Face  \n",
       "291141                   Pink Automatic  \n",
       "291142                   Pink Automatic  \n",
       "\n",
       "[8074 rows x 4 columns]"
      ]
     },
     "execution_count": 40,
     "metadata": {},
     "output_type": "execute_result"
    }
   ],
   "source": [
    "tb_directors_nadropped[tb_directors_nadropped['director_name'].str.contains(\"ill\")]"
   ]
  },
  {
   "cell_type": "code",
   "execution_count": null,
   "metadata": {},
   "outputs": [],
   "source": []
  }
 ],
 "metadata": {
  "kernelspec": {
   "display_name": "Python 3 (ipykernel)",
   "language": "python",
   "name": "python3"
  },
  "language_info": {
   "codemirror_mode": {
    "name": "ipython",
    "version": 3
   },
   "file_extension": ".py",
   "mimetype": "text/x-python",
   "name": "python",
   "nbconvert_exporter": "python",
   "pygments_lexer": "ipython3",
   "version": "3.8.16"
  }
 },
 "nbformat": 4,
 "nbformat_minor": 2
}
