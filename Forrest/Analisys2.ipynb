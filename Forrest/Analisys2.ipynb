{
 "cells": [
  {
   "cell_type": "markdown",
   "metadata": {},
   "source": [
    "# Final Project Submission\n",
    "\n",
    "Please fill out:\n",
    "* Student name: Thiago Bassi\n",
    "* Student pace: full time\n",
    "* Scheduled project review date/time: \n",
    "* Instructor name: \n",
    "* Blog post URL:\n"
   ]
  },
  {
   "cell_type": "code",
   "execution_count": 1,
   "metadata": {},
   "outputs": [],
   "source": [
    "# Your code here - remember to use markdown cells for comments as well!"
   ]
  },
  {
   "cell_type": "code",
   "execution_count": 2,
   "metadata": {},
   "outputs": [],
   "source": [
    "#importing the necessary libraries\n",
    "import pandas as pd\n",
    "import numpy as np\n",
    "import matplotlib\n",
    "import sqlite3\n",
    "import matplotlib.pyplot as plt\n",
    "import json\n",
    "import pickle"
   ]
  },
  {
   "cell_type": "code",
   "execution_count": 3,
   "metadata": {},
   "outputs": [],
   "source": [
    "con = sqlite3.connect('Data/im.db')\n",
    "cursor_obj = con.cursor()"
   ]
  },
  {
   "cell_type": "code",
   "execution_count": 6,
   "metadata": {},
   "outputs": [
    {
     "ename": "SyntaxError",
     "evalue": "invalid syntax (500232379.py, line 4)",
     "output_type": "error",
     "traceback": [
      "\u001b[0;36m  Cell \u001b[0;32mIn[6], line 4\u001b[0;36m\u001b[0m\n\u001b[0;31m    sqlite3 Data/im.db\u001b[0m\n\u001b[0m            ^\u001b[0m\n\u001b[0;31mSyntaxError\u001b[0m\u001b[0;31m:\u001b[0m invalid syntax\n"
     ]
    }
   ],
   "source": [
    "# checking the table names on the sql file\n",
    "%%bash \n",
    "\n",
    "sqlite3 Data/im.db\n",
    ".tables"
   ]
  },
  {
   "cell_type": "code",
   "execution_count": 7,
   "metadata": {},
   "outputs": [],
   "source": [
    "#upload all the tables\n",
    "qr_directors = 'SELECT * FROM directors'\n",
    "qr_movie_akas = 'SELECT * FROM movie_akas'\n",
    "qr_movie_ratings = 'SELECT * FROM movie_ratings'\n",
    "qr_principals = 'SELECT * FROM principals'\n",
    "qr_known_for = 'SELECT * FROM known_for'\n",
    "qr_movie_basics = 'SELECT * FROM movie_basics'\n",
    "qr_persons = 'SELECT * FROM persons'\n",
    "qr_writers = 'SELECT * FROM writers'\n"
   ]
  },
  {
   "cell_type": "code",
   "execution_count": 8,
   "metadata": {},
   "outputs": [],
   "source": [
    "tb_directors = pd.read_sql(qr_directors,con)\n",
    "tb_movie_akas = pd.read_sql(qr_movie_akas,con)\n",
    "tb_movie_ratings = pd.read_sql(qr_movie_ratings,con)\n",
    "tb_principals = pd.read_sql(qr_principals,con)\n",
    "tb_known_for = pd.read_sql(qr_known_for,con)\n",
    "tb_movie_basics = pd.read_sql(qr_movie_basics,con)\n",
    "tb_persons = pd.read_sql(qr_persons,con)\n",
    "tb_writers = pd.read_sql(qr_writers,con)"
   ]
  },
  {
   "cell_type": "code",
   "execution_count": 9,
   "metadata": {},
   "outputs": [],
   "source": [
    "tb_movie_basics.to_csv('movie_basics.csv')\n"
   ]
  },
  {
   "cell_type": "code",
   "execution_count": 10,
   "metadata": {},
   "outputs": [],
   "source": [
    "tb_directors.to_csv('tb_directors.csv')\n",
    "tb_movie_akas.to_csv('tb_movie_akas.csv')\n",
    "tb_movie_ratings.to_csv('tb_movie_ratings.csv')\n",
    "tb_principals.to_csv('tb_principals.csv')\n",
    "tb_known_for.to_csv('tb_known_for.csv')\n",
    "tb_movie_basics.to_csv('tb_movie_basics.csv')\n",
    "tb_persons.to_csv('tb_persons.csv')\n",
    "tb_writers.to_csv('tb_writers.csv')"
   ]
  },
  {
   "cell_type": "code",
   "execution_count": 15,
   "metadata": {},
   "outputs": [
    {
     "name": "stdout",
     "output_type": "stream",
     "text": [
      "CREATE TABLE IF NOT EXISTS \"movie_basics\" (\n",
      "\"movie_id\" TEXT,\n",
      "  \"primary_title\" TEXT,\n",
      "  \"original_title\" TEXT,\n",
      "  \"start_year\" INTEGER,\n",
      "  \"runtime_minutes\" REAL,\n",
      "  \"genres\" TEXT\n",
      ");\n",
      "CREATE TABLE IF NOT EXISTS \"directors\" (\n",
      "\"movie_id\" TEXT,\n",
      "  \"person_id\" TEXT\n",
      ");\n",
      "CREATE TABLE IF NOT EXISTS \"known_for\" (\n",
      "\"person_id\" TEXT,\n",
      "  \"movie_id\" TEXT\n",
      ");\n",
      "CREATE TABLE IF NOT EXISTS \"movie_akas\" (\n",
      "\"movie_id\" TEXT,\n",
      "  \"ordering\" INTEGER,\n",
      "  \"title\" TEXT,\n",
      "  \"region\" TEXT,\n",
      "  \"language\" TEXT,\n",
      "  \"types\" TEXT,\n",
      "  \"attributes\" TEXT,\n",
      "  \"is_original_title\" REAL\n",
      ");\n",
      "CREATE TABLE IF NOT EXISTS \"movie_ratings\" (\n",
      "\"movie_id\" TEXT,\n",
      "  \"averagerating\" REAL,\n",
      "  \"numvotes\" INTEGER\n",
      ");\n",
      "CREATE TABLE IF NOT EXISTS \"persons\" (\n",
      "\"person_id\" TEXT,\n",
      "  \"primary_name\" TEXT,\n",
      "  \"birth_year\" REAL,\n",
      "  \"death_year\" REAL,\n",
      "  \"primary_profession\" TEXT\n",
      ");\n",
      "CREATE TABLE IF NOT EXISTS \"principals\" (\n",
      "\"movie_id\" TEXT,\n",
      "  \"ordering\" INTEGER,\n",
      "  \"person_id\" TEXT,\n",
      "  \"category\" TEXT,\n",
      "  \"job\" TEXT,\n",
      "  \"characters\" TEXT\n",
      ");\n",
      "CREATE TABLE IF NOT EXISTS \"writers\" (\n",
      "\"movie_id\" TEXT,\n",
      "  \"person_id\" TEXT\n",
      ");\n"
     ]
    }
   ],
   "source": [
    "%%bash\n",
    "\n",
    "\n",
    "sqlite3 data/im.db\n",
    ".schema"
   ]
  },
  {
   "cell_type": "code",
   "execution_count": 18,
   "metadata": {},
   "outputs": [
    {
     "ename": "SyntaxError",
     "evalue": "invalid syntax (1167288633.py, line 1)",
     "output_type": "error",
     "traceback": [
      "\u001b[0;36m  Cell \u001b[0;32mIn[18], line 1\u001b[0;36m\u001b[0m\n\u001b[0;31m    sqlite3 -header \"select * from persons;\" > persons.csv\u001b[0m\n\u001b[0m                    ^\u001b[0m\n\u001b[0;31mSyntaxError\u001b[0m\u001b[0;31m:\u001b[0m invalid syntax\n"
     ]
    }
   ],
   "source": [
    "sqlite3 -header \"select * from persons;\" > persons.csv"
   ]
  },
  {
   "cell_type": "code",
   "execution_count": null,
   "metadata": {},
   "outputs": [],
   "source": []
  }
 ],
 "metadata": {
  "kernelspec": {
   "display_name": "Python (wheelydope)",
   "language": "python",
   "name": "wheelydope"
  },
  "language_info": {
   "codemirror_mode": {
    "name": "ipython",
    "version": 3
   },
   "file_extension": ".py",
   "mimetype": "text/x-python",
   "name": "python",
   "nbconvert_exporter": "python",
   "pygments_lexer": "ipython3",
   "version": "3.8.16"
  }
 },
 "nbformat": 4,
 "nbformat_minor": 2
}
