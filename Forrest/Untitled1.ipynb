{
 "cells": [
  {
   "cell_type": "code",
   "execution_count": 1,
   "id": "7aa641fa",
   "metadata": {},
   "outputs": [],
   "source": [
    "#importing the necessary libraries\n",
    "import pandas as pd\n",
    "import numpy as np\n",
    "import matplotlib\n",
    "import sqlite3\n",
    "import matplotlib.pyplot as plt\n",
    "import json\n",
    "import pickle\n",
    "import seaborn as sns\n",
    "from copy import deepcopy"
   ]
  },
  {
   "cell_type": "code",
   "execution_count": 2,
   "id": "9312c51f",
   "metadata": {},
   "outputs": [],
   "source": [
    "# Reading the csv and the tvs, there was ont that was need to put one enconding\n",
    "bom_movie_gross = pd.read_csv('data/bom.movie_gross.csv')\n",
    "rt_movie_info = pd.read_csv('data/rt.movie_info.tsv', delimiter = '\\t')\n",
    "rt_reviews = pd.read_csv('data/rt.reviews.tsv', delimiter = '\\t', encoding='ISO-8859-1')\n",
    "tmdb_movies = pd.read_csv('data/tmdb.movies.csv')\n",
    "tn_movie_budgets = pd.read_csv('data/tn.movie_budgets.csv')"
   ]
  },
  {
   "cell_type": "code",
   "execution_count": 3,
   "id": "1fbf67d2",
   "metadata": {},
   "outputs": [],
   "source": [
    "con = sqlite3.connect('data/im.db')\n",
    "cursor_obj = con.cursor()"
   ]
  },
  {
   "cell_type": "code",
   "execution_count": 4,
   "id": "189362b9",
   "metadata": {},
   "outputs": [],
   "source": [
    "#creating the queries movies\n",
    "qr_movie_basics = 'SELECT A.movie_id, B.title, B.region, B.language, B.types, B.attributes, B.is_original_title, A.primary_title, A.original_title, A.start_year, A.runtime_minutes, A.genres FROM movie_basics A , movie_akas B WHERE A.movie_id=B.movie_id'\n",
    "qr_movie_akas = 'SELECT B.movie_id, B.title, B.region, B.language, B.types, B.attributes, B.is_original_title, A.primary_title, A.original_title, A.start_year, A.runtime_minutes, A.genres, C.averagerating, C.numvotes FROM movie_akas B, movie_basics A, movie_ratings C WHERE B.movie_id=A.movie_id and B.movie_id=C.movie_id' #\n",
    "qr_movie_ratings = 'SELECT C.movie_id, C.averagerating, C.numvotes FROM movie_ratings C, movie_basics A WHERE C.movie_id=A.movie_id' #"
   ]
  },
  {
   "cell_type": "code",
   "execution_count": 5,
   "id": "52743765",
   "metadata": {},
   "outputs": [],
   "source": [
    "#upload the tables with data movies\n",
    "tb_movie_basics = pd.read_sql(qr_movie_basics,con)\n",
    "tb_movie_akas = pd.read_sql(qr_movie_akas,con)\n",
    "tb_movie_ratings = pd.read_sql(qr_movie_ratings,con)"
   ]
  },
  {
   "cell_type": "code",
   "execution_count": 6,
   "id": "32e44bdc",
   "metadata": {},
   "outputs": [],
   "source": [
    "#creating the queries person\n",
    "qr_persons = 'SELECT * FROM persons' # DONE\n",
    "qr_directors = 'SELECT A.movie_id, A.person_id, B.primary_name, B.birth_year, B.death_year, B.primary_profession, D.title, D.region, D.language, D.types, D.attributes, D.is_original_title, E.primary_title, E.original_title, E.start_year, E.runtime_minutes, E.genres, C.averagerating, C.numvotes FROM directors A, persons B, movie_ratings C, movie_akas D, movie_basics E WHERE A.person_id=B.person_id AND A.movie_id=D.movie_id AND C.movie_id=D.movie_id AND E.movie_id=D.movie_id' #\n",
    "qr_writers = 'SELECT A.movie_id, A.person_id, B.primary_name, B.birth_year, B.death_year, B.primary_profession, D.title, D.region, D.language, D.types, D.attributes, D.is_original_title, E.primary_title, E.original_title, E.start_year, E.runtime_minutes, E.genres, C.averagerating, C.numvotes FROM writers A, persons B, movie_ratings C, movie_akas D, movie_basics E WHERE A.person_id=B.person_id  AND A.movie_id=D.movie_id AND C.movie_id=D.movie_id AND E.movie_id=D.movie_id'\n",
    "qr_known_for = 'SELECT A.movie_id, A.person_id, B.primary_name, B.birth_year, B.death_year, B.primary_profession, D.title, D.region, D.language, D.types, D.attributes, D.is_original_title, E.primary_title, E.original_title, E.start_year, E.runtime_minutes, E.genres, C.averagerating, C.numvotes FROM known_for A, persons B, movie_ratings C, movie_akas D, movie_basics E WHERE A.person_id=B.person_id  AND A.movie_id=D.movie_id AND C.movie_id=D.movie_id AND E.movie_id=D.movie_id' #DONE\n",
    "qr_principals = 'SELECT A.movie_id, A.person_id, A.category, A.job, A.characters, B.primary_name, B.birth_year, B.death_year, B.primary_profession, D.title, D.region, D.language, D.types, D.attributes, D.is_original_title, E.primary_title, E.original_title, E.start_year, E.runtime_minutes, E.genres, C.averagerating, C.numvotes FROM principals A, persons B, movie_ratings C, movie_akas D, movie_basics E WHERE A.person_id=B.person_id  AND A.movie_id=D.movie_id AND C.movie_id=D.movie_id AND E.movie_id=D.movie_id' #DONE"
   ]
  },
  {
   "cell_type": "code",
   "execution_count": null,
   "id": "e81b3c76",
   "metadata": {},
   "outputs": [],
   "source": [
    "#upload the tables with data person\n",
    "tb_persons = pd.read_sql(qr_persons,con)\n",
    "tb_directors = pd.read_sql(qr_directors,con)\n",
    "tb_writers = pd.read_sql(qr_writers,con)\n",
    "tb_principals = pd.read_sql(qr_principals,con)\n",
    "tb_known_for = pd.read_sql(qr_known_for,con)"
   ]
  },
  {
   "cell_type": "code",
   "execution_count": null,
   "id": "16a21e9d",
   "metadata": {},
   "outputs": [],
   "source": [
    "tb_movie_akas['genres_split'] = tb_movie_akas['genres'].str.split(\",\")"
   ]
  }
 ],
 "metadata": {
  "kernelspec": {
   "display_name": "Python 3 (ipykernel)",
   "language": "python",
   "name": "python3"
  },
  "language_info": {
   "codemirror_mode": {
    "name": "ipython",
    "version": 3
   },
   "file_extension": ".py",
   "mimetype": "text/x-python",
   "name": "python",
   "nbconvert_exporter": "python",
   "pygments_lexer": "ipython3",
   "version": "3.8.16"
  }
 },
 "nbformat": 4,
 "nbformat_minor": 5
}
