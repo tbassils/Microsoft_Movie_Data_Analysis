{
 "cells": [
  {
   "cell_type": "markdown",
   "metadata": {},
   "source": [
    "# Final Project Submission\n",
    "\n",
    "Please fill out:\n",
    "* Student name: Thiago Bassi\n",
    "* Student pace: full time\n",
    "* Scheduled project review date/time: \n",
    "* Instructor name: \n",
    "* Blog post URL:\n"
   ]
  },
  {
   "cell_type": "code",
   "execution_count": 7,
   "metadata": {},
   "outputs": [],
   "source": [
    "# Your code here - remember to use markdown cells for comments as well!"
   ]
  },
  {
   "cell_type": "markdown",
   "metadata": {},
   "source": [
    "#importing the necessary libraries\n",
    "import pandas as pd\n",
    "import numpy as np\n",
    "import matplotlib\n",
    "import sqlite3\n",
    "import matplotlib.pyplot as plt\n",
    "import json\n",
    "import pickle\n",
    "import seaborn as sns"
   ]
  },
  {
   "cell_type": "markdown",
   "metadata": {},
   "source": [
    "con = sqlite3.connect('Data/im.db')\n",
    "cursor_obj = con.cursor()"
   ]
  },
  {
   "cell_type": "markdown",
   "metadata": {},
   "source": [
    "%%bash\n",
    "\n",
    "\n",
    "sqlite3 data/im.db\n",
    ".tables"
   ]
  },
  {
   "cell_type": "markdown",
   "metadata": {},
   "source": [
    "%%bash\n",
    "\n",
    "\n",
    "sqlite3 data/im.db\n",
    ".schema"
   ]
  },
  {
   "cell_type": "markdown",
   "metadata": {},
   "source": [
    "#upload all the tables\n",
    "qr_directors = 'SELECT * FROM directors'\n",
    "qr_movie_akas = 'SELECT * FROM movie_akas'\n",
    "qr_movie_ratings = 'SELECT * FROM movie_ratings'\n",
    "qr_principals = 'SELECT * FROM principals'\n",
    "qr_known_for = 'SELECT * FROM known_for'\n",
    "qr_movie_basics = 'SELECT * FROM movie_basics'\n",
    "qr_persons = 'SELECT * FROM persons'\n",
    "qr_writers = 'SELECT * FROM writers'\n"
   ]
  },
  {
   "cell_type": "markdown",
   "metadata": {},
   "source": [
    "tb_directors = pd.read_sql(qr_directors,con)\n",
    "tb_movie_akas = pd.read_sql(qr_movie_akas,con)\n",
    "tb_movie_ratings = pd.read_sql(qr_movie_ratings,con)\n",
    "tb_principals = pd.read_sql(qr_principals,con)\n",
    "tb_known_for = pd.read_sql(qr_known_for,con)\n",
    "tb_movie_basics = pd.read_sql(qr_movie_basics,con)\n",
    "tb_persons = pd.read_sql(qr_persons,con)\n",
    "tb_writers = pd.read_sql(qr_writers,con)"
   ]
  },
  {
   "cell_type": "markdown",
   "metadata": {},
   "source": [
    "tb_movie_basics.to_csv('movie_basics.csv')\n"
   ]
  },
  {
   "cell_type": "markdown",
   "metadata": {},
   "source": [
    "Don't execute this code, i already made the tables but below is the code I used. Turned this into a markdown so I don't accidentally do this\n",
    "\n",
    "\n",
    "tb_directors.to_csv('tb_directors.csv')\n",
    "tb_movie_akas.to_csv('tb_movie_akas.csv')\n",
    "tb_movie_ratings.to_csv('tb_movie_ratings.csv')\n",
    "tb_principals.to_csv('tb_principals.csv')\n",
    "tb_known_for.to_csv('tb_known_for.csv')\n",
    "tb_movie_basics.to_csv('tb_movie_basics.csv')\n",
    "tb_persons.to_csv('tb_persons.csv')\n",
    "tb_writers.to_csv('tb_writers.csv')"
   ]
  },
  {
   "cell_type": "code",
   "execution_count": 52,
   "metadata": {},
   "outputs": [
    {
     "data": {
      "text/plain": [
       "Index(['movie_id', 'person_id'], dtype='object')"
      ]
     },
     "execution_count": 52,
     "metadata": {},
     "output_type": "execute_result"
    }
   ],
   "source": [
    "tb_directors.columns"
   ]
  },
  {
   "cell_type": "code",
   "execution_count": 53,
   "metadata": {},
   "outputs": [
    {
     "data": {
      "text/plain": [
       "Index(['person_id', 'primary_name', 'birth_year', 'death_year',\n",
       "       'primary_profession'],\n",
       "      dtype='object')"
      ]
     },
     "execution_count": 53,
     "metadata": {},
     "output_type": "execute_result"
    }
   ],
   "source": [
    "tb_persons.columns"
   ]
  },
  {
   "cell_type": "code",
   "execution_count": 61,
   "metadata": {},
   "outputs": [
    {
     "data": {
      "text/plain": [
       "Index(['movie_id', 'primary_title', 'original_title', 'start_year',\n",
       "       'runtime_minutes', 'genres'],\n",
       "      dtype='object')"
      ]
     },
     "execution_count": 61,
     "metadata": {},
     "output_type": "execute_result"
    }
   ],
   "source": [
    "tb_movie_basics.columns"
   ]
  },
  {
   "cell_type": "code",
   "execution_count": 59,
   "metadata": {},
   "outputs": [],
   "source": [
    "\n",
    "#F.1\n",
    "tb_directors['director_name'] = tb_directors['person_id'].map(tb_persons.set_index('person_id')['primary_name'])"
   ]
  },
  {
   "cell_type": "code",
   "execution_count": 62,
   "metadata": {},
   "outputs": [],
   "source": [
    "#F.2\n",
    "tb_directors['director_movie_PR'] = tb_directors['movie_id'].map(tb_movie_basics.set_index('movie_id')['primary_title'])"
   ]
  },
  {
   "cell_type": "code",
   "execution_count": null,
   "metadata": {},
   "outputs": [],
   "source": []
  }
 ],
 "metadata": {
  "kernelspec": {
   "display_name": "Python 3 (ipykernel)",
   "language": "python",
   "name": "python3"
  },
  "language_info": {
   "codemirror_mode": {
    "name": "ipython",
    "version": 3
   },
   "file_extension": ".py",
   "mimetype": "text/x-python",
   "name": "python",
   "nbconvert_exporter": "python",
   "pygments_lexer": "ipython3",
   "version": "3.8.16"
  }
 },
 "nbformat": 4,
 "nbformat_minor": 2
}
